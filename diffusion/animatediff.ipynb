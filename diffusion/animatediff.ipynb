{
 "cells": [
  {
   "cell_type": "code",
   "execution_count": 16,
   "id": "166f203d-8d6c-49d9-b2e9-1eebad20a0bd",
   "metadata": {},
   "outputs": [
    {
     "name": "stdout",
     "output_type": "stream",
     "text": [
      "Requirement already satisfied: torch in /opt/jupyter_venv/lib/python3.10/site-packages (from -r requirements.txt (line 1)) (2.6.0)\n",
      "Requirement already satisfied: diffusers in /opt/jupyter_venv/lib/python3.10/site-packages (from -r requirements.txt (line 2)) (0.32.2)\n",
      "Requirement already satisfied: accelerate in /opt/jupyter_venv/lib/python3.10/site-packages (from -r requirements.txt (line 3)) (1.4.0)\n",
      "Requirement already satisfied: scipy in /opt/jupyter_venv/lib/python3.10/site-packages (from -r requirements.txt (line 4)) (1.15.2)\n",
      "Requirement already satisfied: ftfy in /opt/jupyter_venv/lib/python3.10/site-packages (from -r requirements.txt (line 5)) (6.3.1)\n",
      "Requirement already satisfied: safetensors in /opt/jupyter_venv/lib/python3.10/site-packages (from -r requirements.txt (line 6)) (0.5.2)\n",
      "Requirement already satisfied: transformers in /opt/jupyter_venv/lib/python3.10/site-packages (from -r requirements.txt (line 7)) (4.49.0)\n",
      "Requirement already satisfied: numpy in /opt/jupyter_venv/lib/python3.10/site-packages (from -r requirements.txt (line 8)) (2.2.3)\n",
      "Collecting moviepy\n",
      "  Downloading moviepy-2.1.2-py3-none-any.whl (126 kB)\n",
      "\u001b[2K     \u001b[90m━━━━━━━━━━━━━━━━━━━━━━━━━━━━━━━━━━━━━━━\u001b[0m \u001b[32m126.7/126.7 kB\u001b[0m \u001b[31m4.1 MB/s\u001b[0m eta \u001b[36m0:00:00\u001b[0m\n",
      "Requirement already satisfied: nvidia-cusparselt-cu12==0.6.2 in /opt/jupyter_venv/lib/python3.10/site-packages (from torch->-r requirements.txt (line 1)) (0.6.2)\n",
      "Requirement already satisfied: nvidia-nccl-cu12==2.21.5 in /opt/jupyter_venv/lib/python3.10/site-packages (from torch->-r requirements.txt (line 1)) (2.21.5)\n",
      "Requirement already satisfied: nvidia-cusparse-cu12==12.3.1.170 in /opt/jupyter_venv/lib/python3.10/site-packages (from torch->-r requirements.txt (line 1)) (12.3.1.170)\n",
      "Requirement already satisfied: nvidia-cublas-cu12==12.4.5.8 in /opt/jupyter_venv/lib/python3.10/site-packages (from torch->-r requirements.txt (line 1)) (12.4.5.8)\n",
      "Requirement already satisfied: nvidia-curand-cu12==10.3.5.147 in /opt/jupyter_venv/lib/python3.10/site-packages (from torch->-r requirements.txt (line 1)) (10.3.5.147)\n",
      "Requirement already satisfied: nvidia-nvtx-cu12==12.4.127 in /opt/jupyter_venv/lib/python3.10/site-packages (from torch->-r requirements.txt (line 1)) (12.4.127)\n",
      "Requirement already satisfied: typing-extensions>=4.10.0 in /opt/jupyter_venv/lib/python3.10/site-packages (from torch->-r requirements.txt (line 1)) (4.12.2)\n",
      "Requirement already satisfied: nvidia-cuda-nvrtc-cu12==12.4.127 in /opt/jupyter_venv/lib/python3.10/site-packages (from torch->-r requirements.txt (line 1)) (12.4.127)\n",
      "Requirement already satisfied: nvidia-cufft-cu12==11.2.1.3 in /opt/jupyter_venv/lib/python3.10/site-packages (from torch->-r requirements.txt (line 1)) (11.2.1.3)\n",
      "Requirement already satisfied: nvidia-cudnn-cu12==9.1.0.70 in /opt/jupyter_venv/lib/python3.10/site-packages (from torch->-r requirements.txt (line 1)) (9.1.0.70)\n",
      "Requirement already satisfied: nvidia-cuda-cupti-cu12==12.4.127 in /opt/jupyter_venv/lib/python3.10/site-packages (from torch->-r requirements.txt (line 1)) (12.4.127)\n",
      "Requirement already satisfied: nvidia-nvjitlink-cu12==12.4.127 in /opt/jupyter_venv/lib/python3.10/site-packages (from torch->-r requirements.txt (line 1)) (12.4.127)\n",
      "Requirement already satisfied: sympy==1.13.1 in /opt/jupyter_venv/lib/python3.10/site-packages (from torch->-r requirements.txt (line 1)) (1.13.1)\n",
      "Requirement already satisfied: triton==3.2.0 in /opt/jupyter_venv/lib/python3.10/site-packages (from torch->-r requirements.txt (line 1)) (3.2.0)\n",
      "Requirement already satisfied: networkx in /opt/jupyter_venv/lib/python3.10/site-packages (from torch->-r requirements.txt (line 1)) (3.4.2)\n",
      "Requirement already satisfied: jinja2 in /opt/jupyter_venv/lib/python3.10/site-packages (from torch->-r requirements.txt (line 1)) (3.1.5)\n",
      "Requirement already satisfied: nvidia-cuda-runtime-cu12==12.4.127 in /opt/jupyter_venv/lib/python3.10/site-packages (from torch->-r requirements.txt (line 1)) (12.4.127)\n",
      "Requirement already satisfied: fsspec in /opt/jupyter_venv/lib/python3.10/site-packages (from torch->-r requirements.txt (line 1)) (2025.2.0)\n",
      "Requirement already satisfied: nvidia-cusolver-cu12==11.6.1.9 in /opt/jupyter_venv/lib/python3.10/site-packages (from torch->-r requirements.txt (line 1)) (11.6.1.9)\n",
      "Requirement already satisfied: filelock in /opt/jupyter_venv/lib/python3.10/site-packages (from torch->-r requirements.txt (line 1)) (3.17.0)\n",
      "Requirement already satisfied: mpmath<1.4,>=1.1.0 in /opt/jupyter_venv/lib/python3.10/site-packages (from sympy==1.13.1->torch->-r requirements.txt (line 1)) (1.3.0)\n",
      "Requirement already satisfied: requests in /opt/jupyter_venv/lib/python3.10/site-packages (from diffusers->-r requirements.txt (line 2)) (2.32.3)\n",
      "Requirement already satisfied: importlib-metadata in /opt/jupyter_venv/lib/python3.10/site-packages (from diffusers->-r requirements.txt (line 2)) (8.6.1)\n",
      "Requirement already satisfied: regex!=2019.12.17 in /opt/jupyter_venv/lib/python3.10/site-packages (from diffusers->-r requirements.txt (line 2)) (2024.11.6)\n",
      "Requirement already satisfied: huggingface-hub>=0.23.2 in /opt/jupyter_venv/lib/python3.10/site-packages (from diffusers->-r requirements.txt (line 2)) (0.29.1)\n",
      "Requirement already satisfied: Pillow in /opt/jupyter_venv/lib/python3.10/site-packages (from diffusers->-r requirements.txt (line 2)) (11.1.0)\n",
      "Requirement already satisfied: pyyaml in /opt/jupyter_venv/lib/python3.10/site-packages (from accelerate->-r requirements.txt (line 3)) (6.0.2)\n",
      "Requirement already satisfied: packaging>=20.0 in /opt/jupyter_venv/lib/python3.10/site-packages (from accelerate->-r requirements.txt (line 3)) (24.2)\n",
      "Requirement already satisfied: psutil in /opt/jupyter_venv/lib/python3.10/site-packages (from accelerate->-r requirements.txt (line 3)) (7.0.0)\n",
      "Requirement already satisfied: wcwidth in /opt/jupyter_venv/lib/python3.10/site-packages (from ftfy->-r requirements.txt (line 5)) (0.2.13)\n",
      "Requirement already satisfied: tqdm>=4.27 in /opt/jupyter_venv/lib/python3.10/site-packages (from transformers->-r requirements.txt (line 7)) (4.67.1)\n",
      "Requirement already satisfied: tokenizers<0.22,>=0.21 in /opt/jupyter_venv/lib/python3.10/site-packages (from transformers->-r requirements.txt (line 7)) (0.21.0)\n",
      "Collecting imageio<3.0,>=2.5\n",
      "  Downloading imageio-2.37.0-py3-none-any.whl (315 kB)\n",
      "\u001b[2K     \u001b[90m━━━━━━━━━━━━━━━━━━━━━━━━━━━━━━━━━━━━━━\u001b[0m \u001b[32m315.8/315.8 kB\u001b[0m \u001b[31m15.9 MB/s\u001b[0m eta \u001b[36m0:00:00\u001b[0m\n",
      "Collecting python-dotenv>=0.10\n",
      "  Downloading python_dotenv-1.0.1-py3-none-any.whl (19 kB)\n",
      "Collecting Pillow\n",
      "  Downloading pillow-10.4.0-cp310-cp310-manylinux_2_28_x86_64.whl (4.5 MB)\n",
      "\u001b[2K     \u001b[90m━━━━━━━━━━━━━━━━━━━━━━━━━━━━━━━━━━━━━━━━\u001b[0m \u001b[32m4.5/4.5 MB\u001b[0m \u001b[31m25.4 MB/s\u001b[0m eta \u001b[36m0:00:00\u001b[0m00:01\u001b[0m00:01\u001b[0m\n",
      "\u001b[?25hRequirement already satisfied: decorator<6.0,>=4.0.2 in /opt/jupyter_venv/lib/python3.10/site-packages (from moviepy->-r requirements.txt (line 9)) (5.2.1)\n",
      "Collecting imageio_ffmpeg>=0.2.0\n",
      "  Downloading imageio_ffmpeg-0.6.0-py3-none-manylinux2014_x86_64.whl (29.5 MB)\n",
      "\u001b[2K     \u001b[90m━━━━━━━━━━━━━━━━━━━━━━━━━━━━━━━━━━━━━━━━\u001b[0m \u001b[32m29.5/29.5 MB\u001b[0m \u001b[31m20.7 MB/s\u001b[0m eta \u001b[36m0:00:00\u001b[0m00:01\u001b[0m00:01\u001b[0m\n",
      "Collecting proglog<=1.0.0\n",
      "  Downloading proglog-0.1.10-py3-none-any.whl (6.1 kB)\n",
      "Requirement already satisfied: zipp>=3.20 in /opt/jupyter_venv/lib/python3.10/site-packages (from importlib-metadata->diffusers->-r requirements.txt (line 2)) (3.21.0)\n",
      "Requirement already satisfied: MarkupSafe>=2.0 in /opt/jupyter_venv/lib/python3.10/site-packages (from jinja2->torch->-r requirements.txt (line 1)) (3.0.2)\n",
      "Requirement already satisfied: charset-normalizer<4,>=2 in /opt/jupyter_venv/lib/python3.10/site-packages (from requests->diffusers->-r requirements.txt (line 2)) (3.4.1)\n",
      "Requirement already satisfied: certifi>=2017.4.17 in /opt/jupyter_venv/lib/python3.10/site-packages (from requests->diffusers->-r requirements.txt (line 2)) (2025.1.31)\n",
      "Requirement already satisfied: idna<4,>=2.5 in /opt/jupyter_venv/lib/python3.10/site-packages (from requests->diffusers->-r requirements.txt (line 2)) (3.10)\n",
      "Requirement already satisfied: urllib3<3,>=1.21.1 in /opt/jupyter_venv/lib/python3.10/site-packages (from requests->diffusers->-r requirements.txt (line 2)) (2.3.0)\n",
      "Installing collected packages: python-dotenv, proglog, Pillow, imageio_ffmpeg, imageio, moviepy\n",
      "  Attempting uninstall: Pillow\n",
      "    Found existing installation: pillow 11.1.0\n",
      "    Uninstalling pillow-11.1.0:\n",
      "      Successfully uninstalled pillow-11.1.0\n",
      "Successfully installed Pillow-10.4.0 imageio-2.37.0 imageio_ffmpeg-0.6.0 moviepy-2.1.2 proglog-0.1.10 python-dotenv-1.0.1\n",
      "\n",
      "\u001b[1m[\u001b[0m\u001b[34;49mnotice\u001b[0m\u001b[1;39;49m]\u001b[0m\u001b[39;49m A new release of pip is available: \u001b[0m\u001b[31;49m23.0.1\u001b[0m\u001b[39;49m -> \u001b[0m\u001b[32;49m25.0.1\u001b[0m\n",
      "\u001b[1m[\u001b[0m\u001b[34;49mnotice\u001b[0m\u001b[1;39;49m]\u001b[0m\u001b[39;49m To update, run: \u001b[0m\u001b[32;49mpip install --upgrade pip\u001b[0m\n"
     ]
    }
   ],
   "source": [
    "import sys\n",
    "!{sys.executable} -m pip install -r requirements.txt\n"
   ]
  },
  {
   "cell_type": "code",
   "execution_count": 13,
   "id": "70f3c1a9-2100-4555-82bd-90db22a3efdd",
   "metadata": {},
   "outputs": [
    {
     "name": "stderr",
     "output_type": "stream",
     "text": [
      "The config attributes {'motion_activation_fn': 'geglu', 'motion_attention_bias': False, 'motion_cross_attention_dim': None} were passed to MotionAdapter, but are not expected and will be ignored. Please verify your config.json configuration file.\n",
      "Fetching 15 files: 100%|██████████| 15/15 [00:48<00:00,  3.20s/it]\n",
      "/opt/jupyter_venv/lib/python3.10/site-packages/transformers/models/clip/feature_extraction_clip.py:28: FutureWarning: The class CLIPFeatureExtractor is deprecated and will be removed in version 5 of Transformers. Please use CLIPImageProcessor instead.\n",
      "  warnings.warn(\n",
      "An error occurred while trying to fetch /root/.cache/huggingface/hub/models--frankjoshua--toonyou_beta6/snapshots/9bb5e1c5be60ab664ec80bff429126e0844ac9fe/vae: Error no file named diffusion_pytorch_model.safetensors found in directory /root/.cache/huggingface/hub/models--frankjoshua--toonyou_beta6/snapshots/9bb5e1c5be60ab664ec80bff429126e0844ac9fe/vae.\n",
      "Defaulting to unsafe serialization. Pass `allow_pickle=False` to raise an error instead.\n",
      "An error occurred while trying to fetch /root/.cache/huggingface/hub/models--frankjoshua--toonyou_beta6/snapshots/9bb5e1c5be60ab664ec80bff429126e0844ac9fe/unet: Error no file named diffusion_pytorch_model.safetensors found in directory /root/.cache/huggingface/hub/models--frankjoshua--toonyou_beta6/snapshots/9bb5e1c5be60ab664ec80bff429126e0844ac9fe/unet.\n",
      "Defaulting to unsafe serialization. Pass `allow_pickle=False` to raise an error instead.\n",
      "Loading pipeline components...: 100%|██████████| 6/6 [00:02<00:00,  2.02it/s]\n"
     ]
    }
   ],
   "source": [
    "import torch\n",
    "from diffusers import AnimateDiffPipeline, DDIMScheduler, MotionAdapter\n",
    "from diffusers.utils import export_to_gif\n",
    "\n",
    "device = torch.device(\"cuda:0\" if torch.cuda.is_available() else \"cpu\")\n",
    "torch_dtype = torch.float16 if device.type == \"cuda\" else torch.float32\n",
    "\n",
    "# Load the motion adapter\n",
    "adapter = MotionAdapter.from_pretrained(\"guoyww/animatediff-motion-adapter-v1-5-2\", torch_dtype=torch_dtype).to(device)\n",
    "\n",
    "# load SD 1.5 based finetuned model\n",
    "#model_id = \"SG161222/Realistic_Vision_V5.1_noVAE\"\n",
    "model_id = 'frankjoshua/toonyou_beta6'\n",
    "pipe = AnimateDiffPipeline.from_pretrained(model_id, motion_adapter=adapter, torch_dtype=torch_dtype).to(device)\n",
    "\n",
    "scheduler = DDIMScheduler.from_pretrained(\n",
    "    model_id,\n",
    "    subfolder=\"scheduler\",\n",
    "    clip_sample=False,\n",
    "    timestep_spacing=\"linspace\",\n",
    "    beta_schedule=\"linear\",\n",
    "    steps_offset=1,\n",
    ")\n",
    "pipe.scheduler = scheduler\n",
    "\n",
    "# enable memory savings\n",
    "pipe.enable_vae_slicing()\n",
    "\n",
    "if device.type == \"cuda\":\n",
    "    pipe.enable_model_cpu_offload()"
   ]
  },
  {
   "cell_type": "code",
   "execution_count": 23,
   "id": "c50499b8-5daf-4dd2-831e-891019d9e886",
   "metadata": {},
   "outputs": [],
   "source": [
    "def make_gif(prompt, path):\n",
    "    output = pipe(\n",
    "        prompt=prompt,\n",
    "        negative_prompt=\"bad quality, worse quality\",\n",
    "        num_frames=16,\n",
    "        guidance_scale=7.5,\n",
    "        num_inference_steps=25,\n",
    "        generator=torch.Generator(\"cpu\").manual_seed(42),\n",
    "    )\n",
    "    frames = output.frames[0]\n",
    "    return export_to_gif(frames, path)\n"
   ]
  },
  {
   "cell_type": "code",
   "execution_count": 25,
   "id": "864286aa-dc1c-443d-8cf2-179e3677e70d",
   "metadata": {},
   "outputs": [
    {
     "name": "stderr",
     "output_type": "stream",
     "text": [
      "100%|██████████| 25/25 [00:34<00:00,  1.39s/it]\n"
     ]
    },
    {
     "data": {
      "text/plain": [
       "'/workspace/animatediff/01.gif'"
      ]
     },
     "execution_count": 25,
     "metadata": {},
     "output_type": "execute_result"
    }
   ],
   "source": [
    "make_gif(\"A tall tree dancing with wiggling branches in the wind, performing the moonwalk, cartoon, 2D, whimsical, colorful, cute, adorable, surprising, funny.\", \n",
    "         \"/workspace/animatediff/01.gif\")"
   ]
  },
  {
   "cell_type": "code",
   "execution_count": 26,
   "id": "35a56992-8ede-4e0d-b4b1-cb96038dfe50",
   "metadata": {},
   "outputs": [
    {
     "name": "stdout",
     "output_type": "stream",
     "text": [
      "0\n"
     ]
    },
    {
     "name": "stderr",
     "output_type": "stream",
     "text": [
      "100%|██████████| 25/25 [00:34<00:00,  1.39s/it]\n"
     ]
    },
    {
     "name": "stdout",
     "output_type": "stream",
     "text": [
      "1\n"
     ]
    },
    {
     "name": "stderr",
     "output_type": "stream",
     "text": [
      "100%|██████████| 25/25 [00:35<00:00,  1.41s/it]\n"
     ]
    },
    {
     "name": "stdout",
     "output_type": "stream",
     "text": [
      "2\n"
     ]
    },
    {
     "name": "stderr",
     "output_type": "stream",
     "text": [
      "100%|██████████| 25/25 [00:35<00:00,  1.42s/it]\n"
     ]
    },
    {
     "name": "stdout",
     "output_type": "stream",
     "text": [
      "3\n"
     ]
    },
    {
     "name": "stderr",
     "output_type": "stream",
     "text": [
      "100%|██████████| 25/25 [00:35<00:00,  1.42s/it]\n"
     ]
    },
    {
     "name": "stdout",
     "output_type": "stream",
     "text": [
      "4\n"
     ]
    },
    {
     "name": "stderr",
     "output_type": "stream",
     "text": [
      "100%|██████████| 25/25 [00:35<00:00,  1.41s/it]\n"
     ]
    },
    {
     "name": "stdout",
     "output_type": "stream",
     "text": [
      "5\n"
     ]
    },
    {
     "name": "stderr",
     "output_type": "stream",
     "text": [
      "100%|██████████| 25/25 [00:35<00:00,  1.41s/it]\n"
     ]
    },
    {
     "name": "stdout",
     "output_type": "stream",
     "text": [
      "6\n"
     ]
    },
    {
     "name": "stderr",
     "output_type": "stream",
     "text": [
      "100%|██████████| 25/25 [00:35<00:00,  1.43s/it]\n"
     ]
    },
    {
     "name": "stdout",
     "output_type": "stream",
     "text": [
      "7\n"
     ]
    },
    {
     "name": "stderr",
     "output_type": "stream",
     "text": [
      "100%|██████████| 25/25 [00:35<00:00,  1.42s/it]\n"
     ]
    },
    {
     "name": "stdout",
     "output_type": "stream",
     "text": [
      "8\n"
     ]
    },
    {
     "name": "stderr",
     "output_type": "stream",
     "text": [
      "100%|██████████| 25/25 [00:35<00:00,  1.41s/it]\n"
     ]
    },
    {
     "name": "stdout",
     "output_type": "stream",
     "text": [
      "9\n"
     ]
    },
    {
     "name": "stderr",
     "output_type": "stream",
     "text": [
      "100%|██████████| 25/25 [00:35<00:00,  1.41s/it]\n"
     ]
    },
    {
     "name": "stdout",
     "output_type": "stream",
     "text": [
      "10\n"
     ]
    },
    {
     "name": "stderr",
     "output_type": "stream",
     "text": [
      "100%|██████████| 25/25 [00:35<00:00,  1.42s/it]\n"
     ]
    },
    {
     "name": "stdout",
     "output_type": "stream",
     "text": [
      "11\n"
     ]
    },
    {
     "name": "stderr",
     "output_type": "stream",
     "text": [
      "100%|██████████| 25/25 [00:35<00:00,  1.42s/it]\n"
     ]
    },
    {
     "name": "stdout",
     "output_type": "stream",
     "text": [
      "12\n"
     ]
    },
    {
     "name": "stderr",
     "output_type": "stream",
     "text": [
      "100%|██████████| 25/25 [00:35<00:00,  1.41s/it]\n"
     ]
    },
    {
     "name": "stdout",
     "output_type": "stream",
     "text": [
      "13\n"
     ]
    },
    {
     "name": "stderr",
     "output_type": "stream",
     "text": [
      "100%|██████████| 25/25 [00:35<00:00,  1.41s/it]\n"
     ]
    },
    {
     "name": "stdout",
     "output_type": "stream",
     "text": [
      "14\n"
     ]
    },
    {
     "name": "stderr",
     "output_type": "stream",
     "text": [
      "100%|██████████| 25/25 [00:35<00:00,  1.41s/it]\n"
     ]
    },
    {
     "name": "stdout",
     "output_type": "stream",
     "text": [
      "15\n"
     ]
    },
    {
     "name": "stderr",
     "output_type": "stream",
     "text": [
      "100%|██████████| 25/25 [00:35<00:00,  1.42s/it]\n"
     ]
    },
    {
     "name": "stdout",
     "output_type": "stream",
     "text": [
      "16\n"
     ]
    },
    {
     "name": "stderr",
     "output_type": "stream",
     "text": [
      "100%|██████████| 25/25 [00:35<00:00,  1.42s/it]\n"
     ]
    },
    {
     "name": "stdout",
     "output_type": "stream",
     "text": [
      "17\n"
     ]
    },
    {
     "name": "stderr",
     "output_type": "stream",
     "text": [
      "100%|██████████| 25/25 [00:35<00:00,  1.42s/it]\n"
     ]
    },
    {
     "name": "stdout",
     "output_type": "stream",
     "text": [
      "18\n"
     ]
    },
    {
     "name": "stderr",
     "output_type": "stream",
     "text": [
      "100%|██████████| 25/25 [00:35<00:00,  1.43s/it]\n"
     ]
    },
    {
     "name": "stdout",
     "output_type": "stream",
     "text": [
      "19\n"
     ]
    },
    {
     "name": "stderr",
     "output_type": "stream",
     "text": [
      "100%|██████████| 25/25 [00:35<00:00,  1.41s/it]\n"
     ]
    }
   ],
   "source": [
    "prompts = [\"A tall tree dancing with wiggling branches in the wind, performing the moonwalk, cartoon, 2D, whimsical, colorful, cute, adorable, surprising, funny.\",\n",
    "\"A playful leaf flipping and twirling in the air, landing right on a squirrel’s nose, cartoon, 2D, whimsical, colorful, cute, adorable, surprising, funny.\",\n",
    "\"A mushroom wearing a fancy oversized hat, secretly a bird’s nest, looking proud and stylish, cartoon, 2D, whimsical, colorful, cute, adorable, surprising, funny.\",\n",
    "\"A deer playing hide-and-seek, peeking out from behind a tiny bush with antlers sticking out, cartoon, 2D, whimsical, colorful, cute, adorable, surprising, funny.\",\n",
    "\"An owl with round glasses on its head, looking confused as it searches for them, cartoon, 2D, whimsical, colorful, cute, adorable, surprising, funny.\",\n",
    "\"A fox with a mischievous grin, running away as bees chase him after swapping a farmer’s hat with a beehive, cartoon, 2D, whimsical, colorful, cute, adorable, surprising, funny.\",\n",
    "\"A giant bear sleeping peacefully, snoring so loudly that nearby trees wear earmuffs, cartoon, 2D, whimsical, colorful, cute, adorable, surprising, funny.\",\n",
    "\"A happy squirrel stuffing acorns into a mailbox while a confused mailman looks on, cartoon, 2D, whimsical, colorful, cute, adorable, surprising, funny.\",\n",
    "\"A tiny acorn rolling downhill, bouncing straight into a sleeping bear’s ear, cartoon, 2D, whimsical, colorful, cute, adorable, surprising, funny.\",\n",
    "\"A brave pinecone dressed as a knight, charging into battle but accidentally poking a porcupine, cartoon, 2D, whimsical, colorful, cute, adorable, surprising, funny.\",\n",
    "\"A graceful fern dancing in the wind, suddenly getting tangled in a sticky spiderweb, cartoon, 2D, whimsical, colorful, cute, adorable, surprising, funny.\",\n",
    "\"A lively stream flowing through the forest, happily humming, as a frog jumps in to sing along, cartoon, 2D, whimsical, colorful, cute, adorable, surprising, funny.\",\n",
    "\"A rock sitting still, while a confused bird builds a nest on its head, cartoon, 2D, whimsical, colorful, cute, adorable, surprising, funny.\",\n",
    "\"A juicy red berry rolling away from a hungry squirrel, hiding under a curious hedgehog, cartoon, 2D, whimsical, colorful, cute, adorable, surprising, funny.\",\n",
    "\"A bird’s nest filled with eggs, suddenly occupied by a fluffy squirrel roommate, cartoon, 2D, whimsical, colorful, cute, adorable, surprising, funny.\",\n",
    "\"A proud wolf howling at the moon, suddenly scared by his own echo chasing him, cartoon, 2D, whimsical, colorful, cute, adorable, surprising, funny.\",\n",
    "\"A friendly hedgehog trying to hug a balloon, accidentally popping it, now covered in colorful confetti, cartoon, 2D, whimsical, colorful, cute, adorable, surprising, funny.\",\n",
    "\"A tree branch waving in the wind, sending a surprised squirrel flying through the air, cartoon, 2D, whimsical, colorful, cute, adorable, surprising, funny.\",\n",
    "\"A confident frog thinking he's a prince, kissing everything around, while mushrooms comically run away, cartoon, 2D, whimsical, colorful, cute, adorable, surprising, funny.\",\n",
    "\"A strong tree root proudly holding up a tree, but suddenly tripping over itself, cartoon, 2D, whimsical, colorful, cute, adorable, surprising, funny.\",\n",
    "]\n",
    "for idx, prompt in enumerate(prompts):\n",
    "    print(idx)\n",
    "    make_gif(prompt, '/workspace/animatediff/%02d.gif' % idx)"
   ]
  },
  {
   "cell_type": "code",
   "execution_count": 32,
   "id": "85439a65-dfd4-49ee-bb97-1f86831fed12",
   "metadata": {},
   "outputs": [
    {
     "name": "stderr",
     "output_type": "stream",
     "text": [
      "Loading pipeline components...: 100%|██████████| 6/6 [00:00<00:00,  8.16it/s]\n"
     ]
    }
   ],
   "source": [
    "import torch\n",
    "from diffusers import StableDiffusionUpscalePipeline\n",
    "from PIL import Image\n",
    "from moviepy import VideoFileClip, ImageSequenceClip\n",
    "import os\n",
    "\n",
    "# Load the upscaling model with the correct scheduler\n",
    "model_id = \"stabilityai/stable-diffusion-x4-upscaler\"\n",
    "upscaler_pipeline = StableDiffusionUpscalePipeline.from_pretrained(\n",
    "    model_id, variant=\"fp16\", torch_dtype=torch.float16\n",
    ")\n",
    "upscaler_pipeline.scheduler = DDIMScheduler.from_config(pipeline.scheduler.config)\n",
    "upscaler_pipeline = pipeline.to(\"cuda\")\n",
    "\n",
    "def upscale_gif(gif_path, output_gif, factor=2, prompt=\"an upscaled image\"):\n",
    "    \"\"\"\n",
    "    Upscales each frame of a GIF using Stable Diffusion and saves as a new GIF.\n",
    "    \n",
    "    :param gif_path: Path to the input GIF file.\n",
    "    :param output_gif: Path to save the upscaled GIF.\n",
    "    :param prompt: Text prompt for the upscaler.\n",
    "    \"\"\"\n",
    "    # Ensure output directory exists\n",
    "    output_dir = os.path.dirname(output_gif)\n",
    "    os.makedirs(output_dir, exist_ok=True)\n",
    "    \n",
    "    # Load GIF as video and process each frame\n",
    "    clip = VideoFileClip(gif_path)\n",
    "    frame_count = 0\n",
    "    upscaled_frames = []\n",
    "    \n",
    "    for frame in clip.iter_frames(fps=clip.fps, dtype=\"uint8\"):\n",
    "        frame_image = Image.fromarray(frame).convert(\"RGB\")\n",
    "        low_res_img = frame_image.resize((clip.w * factor, clip.h * factor))\n",
    "        \n",
    "        # Upscale the image\n",
    "        upscaled_image = upscaler_pipeline(prompt=prompt, image=low_res_img).images[0]\n",
    "        upscaled_frames.append(upscaled_image)\n",
    "        frame_count += 1\n",
    "    \n",
    "    # Save as a new GIF\n",
    "    upscaled_frames = [frame.convert(\"RGB\") for frame in upscaled_frames]\n",
    "    upscaled_clip = ImageSequenceClip([frame for frame in upscaled_frames], fps=clip.fps)\n",
    "    upscaled_clip.write_gif(output_gif, fps=clip.fps)\n",
    "    \n",
    "    print(f\"Upscaled {frame_count} frames and saved GIF to {output_gif}\")\n"
   ]
  },
  {
   "cell_type": "code",
   "execution_count": null,
   "id": "2bca6043-86c9-4a46-8a73-a83a44e20a4c",
   "metadata": {},
   "outputs": [],
   "source": []
  }
 ],
 "metadata": {
  "kernelspec": {
   "display_name": "Python 3 (ipykernel)",
   "language": "python",
   "name": "python3"
  },
  "language_info": {
   "codemirror_mode": {
    "name": "ipython",
    "version": 3
   },
   "file_extension": ".py",
   "mimetype": "text/x-python",
   "name": "python",
   "nbconvert_exporter": "python",
   "pygments_lexer": "ipython3",
   "version": "3.12.6"
  }
 },
 "nbformat": 4,
 "nbformat_minor": 5
}
