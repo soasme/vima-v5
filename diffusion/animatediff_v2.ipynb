{
 "cells": [
  {
   "cell_type": "code",
   "execution_count": null,
   "id": "df265ce9-4cb0-45ef-8e14-7ba9afd209c9",
   "metadata": {},
   "outputs": [],
   "source": [
    "import sys\n",
    "!{sys.executable} -m pip install torch diffusers accelerate scipy ftfy safetensors transformers numpy"
   ]
  },
  {
   "cell_type": "code",
   "execution_count": null,
   "id": "2f01af0a-2f8e-4a4d-92b6-04740f878fe7",
   "metadata": {},
   "outputs": [],
   "source": [
    "import torch\n",
    "from diffusers import AnimateDiffPipeline, DDIMScheduler, MotionAdapter\n",
    "from diffusers.utils import export_to_gif\n",
    "\n",
    "MOTION_ADAPTOR = \"guoyww/animatediff-motion-adapter-v1-5-2\"\n",
    "#MODEL_ID = \"SG161222/Realistic_Vision_V5.1_noVAE\"\n",
    "MODEL_ID = 'frankjoshua/toonyou_beta6'\n",
    "#MODEL_ID = 'Yntec/ResidentCNZCartoon3D'\n",
    "\n",
    "device = torch.device(\"cuda:0\" if torch.cuda.is_available() else \"cpu\")\n",
    "torch_dtype = torch.float16 if device.type == \"cuda\" else torch.float32\n",
    "\n",
    "# Load the motion adapter\n",
    "adapter = MotionAdapter.from_pretrained(MOTION_ADAPTOR, torch_dtype=torch_dtype).to(device)\n",
    "\n",
    "# load SD 1.5 based finetuned model\n",
    "\n",
    "pipe = AnimateDiffPipeline.from_pretrained(MODEL_ID, motion_adapter=adapter, torch_dtype=torch_dtype).to(device)\n",
    "\n",
    "scheduler = DDIMScheduler.from_pretrained(\n",
    "    MODEL_ID,\n",
    "    subfolder=\"scheduler\",\n",
    "    clip_sample=False,\n",
    "    timestep_spacing=\"linspace\",\n",
    "    beta_schedule=\"linear\",\n",
    "    steps_offset=1,\n",
    ")\n",
    "pipe.scheduler = scheduler\n",
    "\n",
    "# enable memory savings\n",
    "pipe.enable_vae_slicing()\n",
    "\n",
    "if device.type == \"cuda\":\n",
    "    pipe.enable_model_cpu_offload()\n",
    "\n"
   ]
  },
  {
   "cell_type": "code",
   "execution_count": null,
   "id": "7cb7d975-2d0e-4710-bcfd-28fd0e865158",
   "metadata": {},
   "outputs": [],
   "source": [
    "\n",
    "def make_gif(prompt, path, seconds=2, batch_count=4, seed=42):\n",
    "    output = pipe(\n",
    "        prompt=prompt,\n",
    "        negative_prompt=\"bad quality, worse quality\",\n",
    "        num_frames=8 * seconds,\n",
    "        guidance_scale=7.5,\n",
    "        num_inference_steps=25,\n",
    "        generator=torch.Generator(\"cpu\").manual_seed(seed),\n",
    "        width=480,\n",
    "        height=272,\n",
    "        num_images_per_prompt=batch_count,\n",
    "    )\n",
    "    frames = output.frames[0]\n",
    "    export_to_gif(frames, path)\n",
    "        \n",
    "    \n",
    "prompts = [\n",
    "  \"(masterpiece, best quality), 1girl, wearing a banana costume, playful pose, bright yellow outfit with banana peel details, short wavy hair, looking at viewer, cheerful expression, tropical background, sunlight filtering through leaves, detailed costume texture, vibrant colors, smile, happy\",\n",
    "  \n",
    "  \"(masterpiece, best quality), 1girl, wearing a papaya-themed dress, orange and green outfit with papaya seed pattern, elegant flowing fabric, long curly hair, standing in a tropical garden, soft glowing sunlight, warm color palette, looking at viewer, smile, happy, dynamic pose\",\n",
    "  \n",
    "  \"(masterpiece, best quality), 1girl, dressed in a watermelon-themed outfit, red dress with black seed patterns, green leafy hat, short bob hair, sitting on a picnic blanket, summer vibes, bright and cheerful, looking at viewer, smile, happy, soft breeze, detailed shading\",\n",
    "  \n",
    "  \"(masterpiece, best quality), 1girl, pineapple costume, cute ruffled dress with pineapple texture, leafy crown headpiece, curly blonde hair, standing in a tropical beach setting, ocean waves in the background, warm golden sunlight, looking at viewer, smile, happy, vibrant and colorful\",\n",
    "  \n",
    "  \"(masterpiece, best quality), 1girl, apple-inspired dress, deep red outfit with green leaf accents, long straight hair, soft freckles, autumn forest background, warm golden hues, slight breeze moving hair, looking at viewer, smile, happy, intricate details, cozy atmosphere\",\n",
    "  \n",
    "  \"(masterpiece, best quality), 1girl, strawberry-themed costume, red dress with small white polka dots, green leafy collar, short twin tails, bright and cheerful, standing in a field of strawberries, warm sunlight, dynamic pose, looking at viewer, smile, happy, soft pink hues\",\n",
    "  \n",
    "  \"(masterpiece, best quality), 1girl, kiwi-inspired outfit, green and brown dress with fuzzy texture, detailed kiwi slice patterns, short wavy hair, standing in a fantasy orchard, glowing green ambiance, looking at viewer, smile, happy, whimsical and playful, vibrant lighting\",\n",
    "  \n",
    "  \"(masterpiece, best quality), 1girl, cherry-themed outfit, red dress with twin cherries hanging from the belt, long straight dark hair, standing near a cherry blossom tree, petals falling gently, romantic atmosphere, detailed costume, looking at viewer, smile, happy, soft pink hues\"\n",
    "]\n",
    "\n",
    "for idx, prompt in enumerate(prompts):\n",
    "    print(idx)\n",
    "    make_gif(prompt, '/workspace/v4_%02d_batch1.gif' % (idx+1), seed=42)\n",
    "    make_gif(prompt, '/workspace/v4_%02d_batch2.gif' % (idx+1), seed=41)\n",
    "    make_gif(prompt, '/workspace/v4_%02d_batch3.gif' % (idx+1), seed=40)\n",
    "    make_gif(prompt, '/workspace/v4_%02d_batch4.gif' % (idx+1), seed=39)"
   ]
  },
  {
   "cell_type": "code",
   "execution_count": null,
   "id": "6a565b35-9fd3-471c-96f2-b856f3112b66",
   "metadata": {},
   "outputs": [],
   "source": [
    "!tar -czvf /workspace/gifs.tar.gz /workspace/*.gif"
   ]
  },
  {
   "cell_type": "code",
   "execution_count": null,
   "id": "de92ffc0-6c82-4522-be39-dbebfbb8390d",
   "metadata": {},
   "outputs": [],
   "source": []
  }
 ],
 "metadata": {
  "kernelspec": {
   "display_name": "Python 3 (ipykernel)",
   "language": "python",
   "name": "python3"
  },
  "language_info": {
   "codemirror_mode": {
    "name": "ipython",
    "version": 3
   },
   "file_extension": ".py",
   "mimetype": "text/x-python",
   "name": "python",
   "nbconvert_exporter": "python",
   "pygments_lexer": "ipython3",
   "version": "3.10.13"
  }
 },
 "nbformat": 4,
 "nbformat_minor": 5
}
